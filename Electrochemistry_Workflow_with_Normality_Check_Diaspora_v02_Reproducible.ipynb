{
 "cells": [
  {
   "cell_type": "markdown",
   "id": "7d113635",
   "metadata": {},
   "source": [
    "# Normailty Check of Cyclic Voltammetry Measurements:"
   ]
  },
  {
   "cell_type": "markdown",
   "id": "a69b1aea",
   "metadata": {},
   "source": [
    "## Intitialization"
   ]
  },
  {
   "cell_type": "code",
   "execution_count": 1,
   "id": "7a667f01",
   "metadata": {},
   "outputs": [],
   "source": [
    "import os\n",
    "import time\n",
    "import Pyro4\n",
    "import pandas as pd\n",
    "import numpy as np\n",
    "from pprint import pprint\n",
    "import matplotlib.pyplot as plt\n",
    "\n",
    "\n",
    "from globus_compute_sdk import Executor\n",
    "from globus_compute_sdk import Client\n",
    "gcc= Client() "
   ]
  },
  {
   "cell_type": "markdown",
   "id": "4c3cb1fb",
   "metadata": {},
   "source": [
    "## Compute services I-V Profile Fitting & Classification over Globus endpoints"
   ]
  },
  {
   "cell_type": "markdown",
   "id": "d5ef45fd",
   "metadata": {},
   "source": [
    "### Feature Extraction: Compute V-Probe"
   ]
  },
  {
   "cell_type": "code",
   "execution_count": 2,
   "id": "1339bf8d",
   "metadata": {},
   "outputs": [],
   "source": [
    "# on Polaris\n",
    "usr_path=\"/home/aneesalnajjar/.globus_compute/ornl_polaris_ep2\"\n",
    "ornl_endpoint_polaris_id='06990509-6363-4879-9fa8-a1d7e933093d'\n",
    "\n",
    "sys_path_polaris=f\"{usr_path}/acl_dependencies\"\n",
    "training_data_path_polaris=f\"{usr_path}/acl_dependencies/training_profiles\"\n",
    "EoT_Classifier_Path_polaris=f\"{usr_path}/acl_dependencies/ml_models_dir\"\n",
    "\n",
    "# module use /soft/modulefiles; module load conda ; conda activate base\n",
    "# conda activate ornl_polaris_venv\n",
    "# globus-compute-endpoint list\n",
    "# globus-compute-endpoint restart ornl_polaris_ep2\n",
    "\n",
    "\n",
    "sys_path_ep=sys_path_polaris\n",
    "ornl_endpoint_id=ornl_endpoint_polaris_id\n",
    "training_data_path_ep=training_data_path_polaris\n",
    "EoT_Classifier_Path_ep=EoT_Classifier_Path_polaris"
   ]
  },
  {
   "cell_type": "code",
   "execution_count": 3,
   "id": "fa831c32",
   "metadata": {
    "scrolled": true
   },
   "outputs": [
    {
     "name": "stderr",
     "output_type": "stream",
     "text": [
      "Warning - dependency versions are mismatched between local SDK and remote worker on endpoint 06990509-6363-4879-9fa8-a1d7e933093d: local SDK uses Python 3.10.9/Dill 0.3.5.1 but worker used 3.10.14/0.3.5.1\n",
      "(worker SDK version: 2.26.0; worker OS: Linux-5.14.21-150500.55.49-default-x86_64-with-glibc2.31)\n"
     ]
    }
   ],
   "source": [
    "def compute_v_probe(sys_path):\n",
    "    import os, sys\n",
    "    sys.path.append(sys_path)\n",
    "    print(sys.path)\n",
    "    import workflow_config\n",
    "    v_p= workflow_config.v_probe\n",
    "    return v_p\n",
    "# ... then create the executor, ...\n",
    "with Executor(endpoint_id=ornl_endpoint_id,amqp_port=443) as gce:\n",
    "    # ... then submit for execution, ...\n",
    "    future = gce.submit(compute_v_probe,sys_path_ep)\n",
    "    v_probe=future.result()\n",
    "\n",
    "#     # ... and finally, wait for the result\n",
    "   #print(future.result())\n",
    "#print(gcc.get_endpoint_status(ornl_endpoint_id))"
   ]
  },
  {
   "cell_type": "markdown",
   "id": "4d73bf35",
   "metadata": {},
   "source": [
    "### Feature Extraction: Compute I-Probe using GPR"
   ]
  },
  {
   "cell_type": "code",
   "execution_count": 4,
   "id": "821e2823",
   "metadata": {},
   "outputs": [
    {
     "name": "stderr",
     "output_type": "stream",
     "text": [
      "Warning - dependency versions are mismatched between local SDK and remote worker on endpoint 06990509-6363-4879-9fa8-a1d7e933093d: local SDK uses Python 3.10.9/Dill 0.3.5.1 but worker used 3.10.14/0.3.5.1\n",
      "(worker SDK version: 2.26.0; worker OS: Linux-5.14.21-150500.55.49-default-x86_64-with-glibc2.31)\n"
     ]
    }
   ],
   "source": [
    "# Learn the model and preform feature extraction\n",
    "def compute_i_probe(v_probe,sys_path,training_data_path):\n",
    "    import os, sys\n",
    "    sys.path.append(sys_path)\n",
    "    save_file_flag=False\n",
    "    show_IV_plot=False\n",
    "    from ml_models_for_normality_check import GPR_for_CV_feature_extraction\n",
    "    i_p=GPR_for_CV_feature_extraction(training_data_path,v_probe)\n",
    "    return i_p\n",
    "# ... then create the executor, ...\n",
    "with Executor(endpoint_id=ornl_endpoint_id,amqp_port=443) as gce:\n",
    "    # ... then submit for execution, ...\n",
    "    future = gce.submit(compute_i_probe,v_probe,sys_path_ep,training_data_path_ep)\n",
    "    i_probe=future.result()"
   ]
  },
  {
   "cell_type": "markdown",
   "id": "bda2a12b",
   "metadata": {},
   "source": [
    "### IV Class Labling"
   ]
  },
  {
   "cell_type": "code",
   "execution_count": 5,
   "id": "6e5f3766",
   "metadata": {},
   "outputs": [
    {
     "name": "stderr",
     "output_type": "stream",
     "text": [
      "Warning - dependency versions are mismatched between local SDK and remote worker on endpoint 06990509-6363-4879-9fa8-a1d7e933093d: local SDK uses Python 3.10.9/Dill 0.3.5.1 but worker used 3.10.14/0.3.5.1\n",
      "(worker SDK version: 2.26.0; worker OS: Linux-5.14.21-150500.55.49-default-x86_64-with-glibc2.31)\n"
     ]
    }
   ],
   "source": [
    "# Assign Classes to the training data set\n",
    "\n",
    "def assign_class(i_p,sys_path):\n",
    "    import os, sys\n",
    "    sys.path.append(sys_path)\n",
    "    from ml_models_for_normality_check import call_assign_classes\n",
    "    i_p=call_assign_classes(i_p)\n",
    "    return i_p\n",
    "# ... then create the executor, ...\n",
    "with Executor(endpoint_id=ornl_endpoint_id,amqp_port=443) as gce:\n",
    "    # ... then submit for execution, ...\n",
    "    future = gce.submit(assign_class,i_probe,sys_path_ep)\n",
    "    i_probe=future.result()\n"
   ]
  },
  {
   "cell_type": "markdown",
   "id": "7a5601d7",
   "metadata": {},
   "source": [
    "### Train EOT Classifier"
   ]
  },
  {
   "cell_type": "code",
   "execution_count": 6,
   "id": "26156d50",
   "metadata": {},
   "outputs": [
    {
     "name": "stderr",
     "output_type": "stream",
     "text": [
      "Warning - dependency versions are mismatched between local SDK and remote worker on endpoint 06990509-6363-4879-9fa8-a1d7e933093d: local SDK uses Python 3.10.9/Dill 0.3.5.1 but worker used 3.10.14/0.3.5.1\n",
      "(worker SDK version: 2.26.0; worker OS: Linux-5.14.21-150500.55.49-default-x86_64-with-glibc2.31)\n"
     ]
    },
    {
     "name": "stdout",
     "output_type": "stream",
     "text": [
      "0\n"
     ]
    }
   ],
   "source": [
    "# Train a classifer with the probing measurement\n",
    "\n",
    "def train_EoT_classifier(i_p,sys_path,EoT_Classifier_Path):\n",
    "    import os, sys\n",
    "    sys.path.append(sys_path)\n",
    "    EoT_Classifier = \"clf.pckl\"\n",
    "    from ml_models_for_normality_check import call_Train_n_Serialize_RF_Classifier\n",
    "    x=call_Train_n_Serialize_RF_Classifier(i_p,EoT_Classifier_Path, EoT_Classifier)\n",
    "    return x\n",
    "    \n",
    "    \n",
    "# ... then create the executor, ...\n",
    "with Executor(endpoint_id=ornl_endpoint_id,amqp_port=443) as gce:\n",
    "# ... then submit for execution, ...\n",
    "    x=gce.submit(train_EoT_classifier,i_probe,sys_path_ep,EoT_Classifier_Path_ep)\n",
    "    print(x.result())\n",
    "\n"
   ]
  },
  {
   "cell_type": "markdown",
   "id": "897b4fdb",
   "metadata": {},
   "source": [
    "### Classification: classify the CV measurements for normality check"
   ]
  },
  {
   "cell_type": "code",
   "execution_count": 7,
   "id": "53221a0d",
   "metadata": {},
   "outputs": [],
   "source": [
    "test_path=\"./testing_profiles\"\n",
    "\n",
    "\n",
    "#CV_data_file='Test_Ferrocene_normal.txt'\n",
    "CV_data_file='cv_data_cvs_expr03regular_cell_GOOD.txt'\n",
    "#CV_data_file='Test_Ferrocene_disconnect_reference.txt'\n",
    "#CV_data_file='Test_Ferrocene_disconnect_working.txt'\n",
    "\n",
    "IV_df = pd.read_csv(os.path.join(test_path,CV_data_file),sep='\\t') \n",
    "Ewe=np.array(IV_df.Ewe).reshape(-1,1)\n",
    "I=np.array(IV_df.I).reshape(-1,1)\n"
   ]
  },
  {
   "cell_type": "code",
   "execution_count": 8,
   "id": "df12f39d",
   "metadata": {},
   "outputs": [
    {
     "name": "stderr",
     "output_type": "stream",
     "text": [
      "Warning - dependency versions are mismatched between local SDK and remote worker on endpoint 06990509-6363-4879-9fa8-a1d7e933093d: local SDK uses Python 3.10.9/Dill 0.3.5.1 but worker used 3.10.14/0.3.5.1\n",
      "(worker SDK version: 2.26.0; worker OS: Linux-5.14.21-150500.55.49-default-x86_64-with-glibc2.31)\n"
     ]
    },
    {
     "name": "stdout",
     "output_type": "stream",
     "text": [
      " IV Profile cv_data_cvs_expr03regular_cell_GOOD.txt is     Normal\n"
     ]
    }
   ],
   "source": [
    "# CV Classification\n",
    "\n",
    "def Classify_IV_profile(i_probe,Ewe,I,v_probe,sys_path,EoT_Classifier_Path):\n",
    "    import os, sys\n",
    "    sys.path.append(sys_path)\n",
    "    EoT_Classifier = \"clf.pckl\"\n",
    "    from ml_models_for_normality_check import call_normalize_and_analyze_CV_profile\n",
    "    normality_status=call_normalize_and_analyze_CV_profile(i_probe,Ewe,I,v_probe,EoT_Classifier_Path, EoT_Classifier)\n",
    "    return normality_status\n",
    " \n",
    "                                \n",
    "# ... then create the executor, ...\n",
    "with Executor(endpoint_id=ornl_endpoint_id,amqp_port=443) as gce:\n",
    "# ... then submit for execution, ...\n",
    "    x=gce.submit(Classify_IV_profile,i_probe,Ewe,I,v_probe,sys_path_ep,EoT_Classifier_Path_ep)\n",
    "    #print(x.result())\n",
    "    i_probe_t,y_pred,profile_class=x.result() \n",
    "    print(f\" IV Profile {CV_data_file} is \\\n",
    "    {('Normal') if profile_class else ('Invalid')}\")\n"
   ]
  },
  {
   "cell_type": "code",
   "execution_count": 9,
   "id": "b268edd6",
   "metadata": {},
   "outputs": [
    {
     "data": {
      "image/png": "[encoded data removed]",
      "text/plain": [
       "<Figure size 800x400 with 2 Axes>"
      ]
     },
     "metadata": {},
     "output_type": "display_data"
    }
   ],
   "source": [
    "def v_vs_I_Plot(lst_plots,title=''):\n",
    "    for indx in lst_plots:\n",
    "        plt.scatter(indx[1],indx[0],label=indx[2])\n",
    "        plt.xlabel('V', fontsize = 16)\n",
    "        plt.ylabel('I', fontsize = 16)\n",
    "        plt.yticks(fontsize = 13)\n",
    "        plt.xticks(fontsize = 13)\n",
    "        plt.gca().yaxis.offsetText.set_fontsize(16)\n",
    "        plt.ticklabel_format(axis='y', style='sci',scilimits=(0,0))\n",
    "        plt.legend(loc='best')\n",
    "        plt.tight_layout()\n",
    "        plt.title(title)\n",
    "            \n",
    "\n",
    "\n",
    "plt.figure(figsize=(8,4))\n",
    "#plt.suptitle(f' CV Measurement Analysis: {save_file_name}')\n",
    "ax1 = plt.subplot(1, 2, 1)\n",
    "v_vs_I_Plot([(I,Ewe,'Measurments')],title='I-V Plot')\n",
    "\n",
    "#####################################\n",
    "ax2=plt.subplot(1, 2, 2)\n",
    "v_vs_I_Plot([(y_pred,Ewe,'Regression'),(i_probe_t,v_probe,'Regression Probing')],title='I-V Regression and Probing')\n",
    "\n",
    "\n",
    "plt.show()\n",
    "\n"
   ]
  }
 ],
 "metadata": {
  "kernelspec": {
   "display_name": "Python 3 (ipykernel)",
   "language": "python",
   "name": "python3"
  },
  "language_info": {
   "codemirror_mode": {
    "name": "ipython",
    "version": 3
   },
   "file_extension": ".py",
   "mimetype": "text/x-python",
   "name": "python",
   "nbconvert_exporter": "python",
   "pygments_lexer": "ipython3",
   "version": "3.10.9"
  }
 },
 "nbformat": 4,
 "nbformat_minor": 5
}
